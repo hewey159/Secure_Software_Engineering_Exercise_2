{
 "cells": [
  {
   "cell_type": "code",
   "execution_count": null,
   "metadata": {},
   "outputs": [],
   "source": [
    "import numpy as np\n",
    "import pandas as pd\n",
    "import os\n",
    "\n",
    "import git\n",
    "from git import RemoteProgress\n",
    "\n",
    "from git import Repo\n",
    "from datetime import datetime, date\n",
    "import matplotlib.pyplot as plt\n",
    "import seaborn as sns\n",
    "from time import strptime\n",
    "%matplotlib inline"
   ]
  },
  {
   "cell_type": "code",
   "execution_count": null,
   "metadata": {},
   "outputs": [],
   "source": [
    "class Progress(RemoteProgress):\n",
    "    def update(self, op_code, cur_count, max_count=None, message=''):\n",
    "        print(self._cur_line)"
   ]
  },
  {
   "cell_type": "code",
   "execution_count": null,
   "metadata": {},
   "outputs": [],
   "source": [
    "# uncomment the correct repo you want the information from\n",
    "\n",
    "\n",
    "\n",
    "# # apache poi \n",
    "# remote_link = \"https://github.com/apache/poi\"\n",
    "# local_link = \"repo/poi\"\n",
    "# # Uncomment to clone\n",
    "# # Repo.clone_from(remote_link, local_link, progress=Progress())\n",
    "# repo = Repo(local_link)\n",
    "# fixing_commit = \"3a328aa220f6979f9805f658ae33244d153beaa7\"\n",
    "# affected_files = [\"src/ooxml/java/org/apache/poi/POIXMLTypeLoader.java\",\n",
    "#                   \"src/ooxml/java/org/apache/poi/util/DocumentHelper.java\"]\n",
    "\n",
    "\n",
    "\n",
    "\n",
    "# # cloudfoundry uua \n",
    "# remote_link = \"https://github.com/cloudfoundry/uaa\"\n",
    "# local_link = \"repo/uua\"\n",
    "# # Uncomment to clone\n",
    "# # Repo.clone_from(remote_link, local_link, progress=Progress())\n",
    "# repo = Repo(local_link)\n",
    "# fixing_commit = \"14c745aa293b8d3ce9cdd6bfbc6c0ef3f269b21\"\n",
    "# affected_files = [\"server/src/main/java/org/cloudfoundry/identity/uaa/zone/GeneralIdentityZoneConfigurationValidator.java\"]\n",
    "\n",
    "\n",
    "\n",
    "\n",
    "# # apache struts \n",
    "# remote_link = \"https://github.com/apache/struts\"\n",
    "# local_link = \"repo/struts\"\n",
    "# # Uncomment to clone\n",
    "# # Repo.clone_from(remote_link, local_link, progress=Progress())\n",
    "# repo = Repo(local_link)\n",
    "# fixing_commit = \"74e26830d2849a84729b33497f729e0f033dc147\"\n",
    "# affected_files = [\"core/src/main/java/com/opensymphony/xwork2/security/DefaultExcludedPatternsChecker.java\",\n",
    "#                   \"core/src/test/java/com/opensymphony/xwork2/interceptor/ParametersInterceptorTest.java\"]\n",
    "\n"
   ]
  },
  {
   "cell_type": "code",
   "execution_count": null,
   "metadata": {},
   "outputs": [],
   "source": [
    "def removeDuplicates(array):\n",
    "    new_array = []\n",
    "    for value in array:\n",
    "        if value not in new_array:\n",
    "            new_array.append(value)\n",
    "    return new_array\n",
    "        "
   ]
  },
  {
   "cell_type": "code",
   "execution_count": null,
   "metadata": {},
   "outputs": [],
   "source": [
    "# prints the commit message, 3a\n",
    "\n",
    "show_data = repo.git.show(\"-s\", fixing_commit).splitlines()\n",
    "for line in show_data:\n",
    "    print(line)\n"
   ]
  },
  {
   "cell_type": "code",
   "execution_count": null,
   "metadata": {},
   "outputs": [],
   "source": [
    "# print the number of files changed, 3b\n",
    "\n",
    "# retuns the files that have been changed\n",
    "files = repo.git.whatchanged(\"-1\", \"--format=oneline\", fixing_commit).splitlines()\n",
    "\n",
    "# minus one as one is the commit message\n",
    "files.pop(0)\n",
    "\n",
    "print(str(len(files)) + \" files changed\")"
   ]
  },
  {
   "cell_type": "code",
   "execution_count": null,
   "metadata": {},
   "outputs": [],
   "source": [
    "# prints the number of unique directories, 3c\n",
    "\n",
    "all_directories = []\n",
    "\n",
    "for file in files:\n",
    "    file_split = file.split()\n",
    "    full_dir = file_split[5]\n",
    "    directory = os.path.dirname(full_dir)\n",
    "    all_directories.append(directory)\n",
    "    \n",
    "all_directories = removeDuplicates(all_directories)\n",
    "print(str(len(all_directories)) + \" directories changed\")\n",
    "    "
   ]
  },
  {
   "cell_type": "code",
   "execution_count": null,
   "metadata": {},
   "outputs": [],
   "source": [
    "# prints the number of added/delete lines (inculding comments / blanks lines), 3d, 3e\n",
    "\n",
    "lines_changed = repo.git.show(\"--pretty=tformat:\", \"--numstat\", fixing_commit).splitlines()\n",
    "\n",
    "total_lines_added = 0\n",
    "total_lines_deleted = 0\n",
    "\n",
    "for line in lines_changed:\n",
    "    line_split = line.split()\n",
    "    total_lines_added += int(line_split[0].strip())\n",
    "    total_lines_deleted += int(line_split[1].strip())\n",
    "    \n",
    "print(\"Total deletions: \" + str(total_lines_deleted))\n",
    "print(\"Total additions: \" + str(total_lines_added))"
   ]
  },
  {
   "cell_type": "code",
   "execution_count": null,
   "metadata": {},
   "outputs": [],
   "source": [
    "def countNumberBlankComments(file, langauge):\n",
    "    total_blank_additions = 0\n",
    "    total_blank_deletions = 0\n",
    "    \n",
    "    if langauge == \"Java\":\n",
    "        for line in file:\n",
    "            if line[0] == \"+\":\n",
    "                line = line[1:]\n",
    "                line = line.strip()\n",
    "                if line == \"\":\n",
    "                    total_blank_additions += 1\n",
    "                    continue\n",
    "                if line[0] == \"/\" or line[0] == \"*\":\n",
    "                    total_blank_additions += 1\n",
    "                    \n",
    "            if line[0] == \"-\":\n",
    "                line = line[1:]\n",
    "                line = line.strip()\n",
    "                if line == \"\":\n",
    "                    total_blank_deletions += 1\n",
    "                    continue\n",
    "                if line[0] == \"/\" or line[0] == \"*\":\n",
    "                    total_blank_deletions += 1\n",
    "    return total_blank_additions, total_blank_deletions"
   ]
  },
  {
   "cell_type": "code",
   "execution_count": null,
   "metadata": {},
   "outputs": [],
   "source": [
    "# prints the number of added/deleted lines (Excluding comments / blanks lines) 3f, 3g\n",
    "\n",
    "total_blank = [0, 0]\n",
    "\n",
    "# for each changed file\n",
    "for file in files:\n",
    "    # get the directory\n",
    "    file_split = file.split()\n",
    "    full_dir = file_split[5]\n",
    "    \n",
    "    #get the diff and find the blanks and comments     \n",
    "    affected_file_diff = repo.git.diff(fixing_commit + \"^\" + \"..\" + fixing_commit, \"--\", full_dir).splitlines()\n",
    "    this_total_blank = countNumberBlankComments(affected_file_diff, \"Java\")\n",
    "    \n",
    "    # add blanks and comments to total     \n",
    "    total_blank = np.add(total_blank, this_total_blank)\n",
    "\n",
    "# get the total from before and the found blank lines and remove them from total\n",
    "total_blank_additions = total_lines_added - total_blank[0]\n",
    "total_blank_deletions = total_lines_deleted - total_blank[1]\n",
    "\n",
    "print(\"Total deletions (without comments/blanklines): \" + str(total_blank_deletions))\n",
    "print(\"Total additions (without comments/blanklines): \" + str(total_blank_additions))"
   ]
  },
  {
   "cell_type": "code",
   "execution_count": null,
   "metadata": {},
   "outputs": [],
   "source": [
    "def convertToDate(input_date):\n",
    "    split = input_date.split()\n",
    "    year = split[4]\n",
    "    month = strptime(split[1],'%b').tm_mon\n",
    "    day = split[2]\n",
    "    return date(year = int(year), month = month, day = int(day))"
   ]
  },
  {
   "cell_type": "code",
   "execution_count": null,
   "metadata": {},
   "outputs": [],
   "source": [
    "# time difference between the fixing commit and the previous commit, 3h\n",
    "\n",
    "for affected_file in affected_files:\n",
    "    dates = repo.git.log(\"--format=%ad\", fixing_commit, \"--\", affected_file).splitlines()\n",
    "\n",
    "    date1_object = convertToDate(dates[0])\n",
    "    if len(dates) < 2:\n",
    "        print(\"no other changes have been made before\")\n",
    "    else:    \n",
    "        date2_object = convertToDate(dates[1])\n",
    "        total_days = abs((date1_object - date2_object).days)\n",
    "        print(\"Total days since file\", os.path.basename(affected_file), \"changed:\", total_days)"
   ]
  },
  {
   "cell_type": "code",
   "execution_count": null,
   "metadata": {},
   "outputs": [],
   "source": [
    "# get the number of times this file has been changed, 3i\n",
    "\n",
    "for affected_file in affected_files:\n",
    "    times = repo.git.log(\"--format=%ad\", fixing_commit, \"--\", affected_file).splitlines()\n",
    "    print(\"This file\", os.path.basename(affected_file), \"has been changed:\", len(times), \"times\")"
   ]
  },
  {
   "cell_type": "code",
   "execution_count": null,
   "metadata": {},
   "outputs": [],
   "source": [
    "# what devolpers have modifed this file? 3j\n",
    "all_files_authors = []\n",
    "for affected_file in affected_files:\n",
    "    all_authors = repo.git.log(\"--format=%an\", fixing_commit, \"--\", affected_file).splitlines()\n",
    "    authors = removeDuplicates(all_authors)\n",
    "    \n",
    "    all_files_authors.extend(authors)\n",
    "    all_files_authors = removeDuplicates(all_files_authors)\n",
    "    \n",
    "    print(os.path.basename(affected_file), \"\\n\\tAuthors:\")\n",
    "    for author in authors:\n",
    "        print(\"\\t\\t\", author)\n",
    "    print(\"\")"
   ]
  },
  {
   "cell_type": "code",
   "execution_count": null,
   "metadata": {},
   "outputs": [],
   "source": [
    "def getAuthorCommits(author_name, df):\n",
    "    row = df[df[\"Author\"].str.contains(author_name)]\n",
    "    commits = row[\"Commit\"].iloc[0]\n",
    "    return int(commits)"
   ]
  },
  {
   "cell_type": "code",
   "execution_count": null,
   "metadata": {},
   "outputs": [],
   "source": [
    "# how many has each person commited\n",
    "\n",
    "commit_authors = repo.git.shortlog(\"-sne\", \"--all\").splitlines()\n",
    "\n",
    "author_commits = []\n",
    "\n",
    "for commit_author in commit_authors:\n",
    "    commit, author = commit_author.split(\"\\t\")\n",
    "    author_commits.append([int(commit), author])\n",
    "    \n",
    "df = pd.DataFrame(author_commits, columns=['Commit', 'Author'])\n",
    "\n",
    "for author in all_files_authors:\n",
    "    print(author, \":\", getAuthorCommits(author, df), \" Commits\")\n",
    "\n"
   ]
  },
  {
   "cell_type": "code",
   "execution_count": null,
   "metadata": {},
   "outputs": [],
   "source": []
  },
  {
   "cell_type": "code",
   "execution_count": null,
   "metadata": {},
   "outputs": [],
   "source": []
  },
  {
   "cell_type": "code",
   "execution_count": null,
   "metadata": {},
   "outputs": [],
   "source": []
  },
  {
   "cell_type": "code",
   "execution_count": null,
   "metadata": {},
   "outputs": [],
   "source": []
  },
  {
   "cell_type": "code",
   "execution_count": null,
   "metadata": {},
   "outputs": [],
   "source": []
  },
  {
   "cell_type": "code",
   "execution_count": null,
   "metadata": {},
   "outputs": [],
   "source": []
  },
  {
   "cell_type": "code",
   "execution_count": null,
   "metadata": {},
   "outputs": [],
   "source": []
  }
 ],
 "metadata": {
  "kernelspec": {
   "display_name": "Python 3",
   "language": "python",
   "name": "python3"
  },
  "language_info": {
   "codemirror_mode": {
    "name": "ipython",
    "version": 3
   },
   "file_extension": ".py",
   "mimetype": "text/x-python",
   "name": "python",
   "nbconvert_exporter": "python",
   "pygments_lexer": "ipython3",
   "version": "3.6.8"
  }
 },
 "nbformat": 4,
 "nbformat_minor": 4
}
